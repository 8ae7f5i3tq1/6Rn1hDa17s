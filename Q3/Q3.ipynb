{
 "cells": [
  {
   "cell_type": "markdown",
   "id": "chemical-recovery",
   "metadata": {},
   "source": [
    "<h2> Content List </h2>\n",
    "\n",
    "* Question\n",
    "* Answer\n",
    "    * Libraries and Data Preparation \n",
    "    * Text Pre-Processing\n",
    "    * Anser to Point A\n",
    "    * Anser to Point B\n",
    "    * Anser to Point C"
   ]
  },
  {
   "cell_type": "markdown",
   "id": "southern-coffee",
   "metadata": {},
   "source": [
    "<h2> Question </h2>"
   ]
  },
  {
   "cell_type": "markdown",
   "id": "exposed-verification",
   "metadata": {},
   "source": [
    "<img src=\"./Question3.jpg\" width=640 align=\"left\"></img>"
   ]
  },
  {
   "cell_type": "markdown",
   "id": "congressional-thousand",
   "metadata": {},
   "source": [
    "<img src=\"./Question3 text.jpg\" width=640 align=\"left\"></img>"
   ]
  },
  {
   "cell_type": "markdown",
   "id": "moral-manual",
   "metadata": {},
   "source": [
    "This Analysis is made by : Billy"
   ]
  },
  {
   "cell_type": "markdown",
   "id": "superior-championship",
   "metadata": {},
   "source": [
    "<h3> Libraries and Data Preparation </h3>"
   ]
  },
  {
   "cell_type": "code",
   "execution_count": 1,
   "id": "emerging-matter",
   "metadata": {},
   "outputs": [],
   "source": [
    "# Libraries\n",
    "import pandas as pd\n",
    "import numpy as np\n",
    "import seaborn as sns\n",
    "import re\n",
    "from collections import Counter\n",
    "from sklearn.feature_extraction.text import CountVectorizer"
   ]
  },
  {
   "cell_type": "code",
   "execution_count": 2,
   "id": "prime-logistics",
   "metadata": {},
   "outputs": [],
   "source": [
    "# Load Text\n",
    "\n",
    "text = \"\"\"As a term, data analytics predominantly refers to an assortment of applications, from basic business \n",
    "intelligence (BI), reporting and online analytical processing (OLAP) to various forms of advanced \n",
    "analytics. In that sense, it's similar in nature to business analytics, another umbrella term for \n",
    "approaches to analyzing data -- with the difference that the latter is oriented to business uses, while \n",
    "data analytics has a broader focus. The expansive view of the term isn't universal, though: In some \n",
    "cases, people use data analytics specifically to mean advanced analytics, treating BI as a separate \n",
    "category. Data analytics initiatives can help businesses increase revenues, improve operational \n",
    "efficiency, optimize marketing campaigns and customer service efforts, respond more quickly to \n",
    "emerging market trends and gain a competitive edge over rivals -- all with the ultimate goal of \n",
    "boosting business performance. Depending on the particular application, the data that's analyzed \n",
    "can consist of either historical records or new information that has been processed for real-time \n",
    "analytics uses. In addition, it can come from a mix of internal systems and external data sources. At \n",
    "a high level, data analytics methodologies include exploratory data analysis (EDA), which aims to find \n",
    "patterns and relationships in data, and confirmatory data analysis (CDA), which applies statistical \n",
    "techniques to determine whether hypotheses about a data set are true or false. EDA is often \n",
    "compared to detective work, while CDA is akin to the work of a judge or jury during a court trial -- a \n",
    "distinction first drawn by statistician John W. Tukey in his 1977 book Exploratory Data Analysis. Data \n",
    "analytics can also be separated into quantitative data analysis and qualitative data analysis. The \n",
    "former involves analysis of numerical data with quantifiable variables that can be compared or \n",
    "measured statistically. The qualitative approach is more interpretive -- it focuses on understanding \n",
    "the content of non-numerical data like text, images, audio and video, including common phrases, \n",
    "themes and points of view.\"\"\""
   ]
  },
  {
   "cell_type": "code",
   "execution_count": 3,
   "id": "alert-england",
   "metadata": {},
   "outputs": [
    {
     "name": "stdout",
     "output_type": "stream",
     "text": [
      "As a term, data analytics predominantly refers to an assortment of applications, from basic business \n",
      "intelligence (BI), reporting and online analytical processing (OLAP) to various forms of advanced \n",
      "analytics. In that sense, it's similar in nature to business analytics, another umbrella term for \n",
      "approaches to analyzing data -- with the difference that the latter is oriented to business uses, while \n",
      "data analytics has a broader focus. The expansive view of the term isn't universal, though: In some \n",
      "cases, people use data analytics specifically to mean advanced analytics, treating BI as a separate \n",
      "category. Data analytics initiatives can help businesses increase revenues, improve operational \n",
      "efficiency, optimize marketing campaigns and customer service efforts, respond more quickly to \n",
      "emerging market trends and gain a competitive edge over rivals -- all with the ultimate goal of \n",
      "boosting business performance. Depending on the particular application, the data that's analyzed \n",
      "can consist of either historical records or new information that has been processed for real-time \n",
      "analytics uses. In addition, it can come from a mix of internal systems and external data sources. At \n",
      "a high level, data analytics methodologies include exploratory data analysis (EDA), which aims to find \n",
      "patterns and relationships in data, and confirmatory data analysis (CDA), which applies statistical \n",
      "techniques to determine whether hypotheses about a data set are true or false. EDA is often \n",
      "compared to detective work, while CDA is akin to the work of a judge or jury during a court trial -- a \n",
      "distinction first drawn by statistician John W. Tukey in his 1977 book Exploratory Data Analysis. Data \n",
      "analytics can also be separated into quantitative data analysis and qualitative data analysis. The \n",
      "former involves analysis of numerical data with quantifiable variables that can be compared or \n",
      "measured statistically. The qualitative approach is more interpretive -- it focuses on understanding \n",
      "the content of non-numerical data like text, images, audio and video, including common phrases, \n",
      "themes and points of view.\n"
     ]
    }
   ],
   "source": [
    "print(text)"
   ]
  },
  {
   "cell_type": "markdown",
   "id": "pediatric-consideration",
   "metadata": {},
   "source": [
    "<h3> Text Pre-Processing </h3>"
   ]
  },
  {
   "cell_type": "code",
   "execution_count": 4,
   "id": "controlling-shakespeare",
   "metadata": {},
   "outputs": [],
   "source": [
    "# Convert Text to Lowercase\n",
    "text = text.lower()"
   ]
  },
  {
   "cell_type": "code",
   "execution_count": 5,
   "id": "superior-prize",
   "metadata": {},
   "outputs": [],
   "source": [
    "# Get Text Lines\n",
    "text_lines = text.splitlines()"
   ]
  },
  {
   "cell_type": "code",
   "execution_count": 6,
   "id": "classical-notion",
   "metadata": {},
   "outputs": [
    {
     "name": "stdout",
     "output_type": "stream",
     "text": [
      "Line 01 : as a term, data analytics predominantly refers to an assortment of applications, from basic business \n",
      "Line 02 : intelligence (bi), reporting and online analytical processing (olap) to various forms of advanced \n",
      "Line 03 : analytics. in that sense, it's similar in nature to business analytics, another umbrella term for \n",
      "Line 04 : approaches to analyzing data -- with the difference that the latter is oriented to business uses, while \n",
      "Line 05 : data analytics has a broader focus. the expansive view of the term isn't universal, though: in some \n",
      "Line 06 : cases, people use data analytics specifically to mean advanced analytics, treating bi as a separate \n",
      "Line 07 : category. data analytics initiatives can help businesses increase revenues, improve operational \n",
      "Line 08 : efficiency, optimize marketing campaigns and customer service efforts, respond more quickly to \n",
      "Line 09 : emerging market trends and gain a competitive edge over rivals -- all with the ultimate goal of \n",
      "Line 10 : boosting business performance. depending on the particular application, the data that's analyzed \n",
      "Line 11 : can consist of either historical records or new information that has been processed for real-time \n",
      "Line 12 : analytics uses. in addition, it can come from a mix of internal systems and external data sources. at \n",
      "Line 13 : a high level, data analytics methodologies include exploratory data analysis (eda), which aims to find \n",
      "Line 14 : patterns and relationships in data, and confirmatory data analysis (cda), which applies statistical \n",
      "Line 15 : techniques to determine whether hypotheses about a data set are true or false. eda is often \n",
      "Line 16 : compared to detective work, while cda is akin to the work of a judge or jury during a court trial -- a \n",
      "Line 17 : distinction first drawn by statistician john w. tukey in his 1977 book exploratory data analysis. data \n",
      "Line 18 : analytics can also be separated into quantitative data analysis and qualitative data analysis. the \n",
      "Line 19 : former involves analysis of numerical data with quantifiable variables that can be compared or \n",
      "Line 20 : measured statistically. the qualitative approach is more interpretive -- it focuses on understanding \n",
      "Line 21 : the content of non-numerical data like text, images, audio and video, including common phrases, \n",
      "Line 22 : themes and points of view.\n"
     ]
    }
   ],
   "source": [
    "# Print Lines with Line Number\n",
    "\n",
    "i = 1\n",
    "for text_line in text_lines:\n",
    "    if(i < 10):\n",
    "        index = '0' + str(i)\n",
    "    else:\n",
    "        index = str(i)\n",
    "        \n",
    "    print(\"Line \" + index + \" : \" + text_line)\n",
    "    i+=1"
   ]
  },
  {
   "cell_type": "code",
   "execution_count": 7,
   "id": "subject-beach",
   "metadata": {},
   "outputs": [
    {
     "name": "stdout",
     "output_type": "stream",
     "text": [
      "Number of Lines : 22\n"
     ]
    }
   ],
   "source": [
    "# Show Number of Lines\n",
    "n_lines = len(text_lines)\n",
    "print(\"Number of Lines : \" + str(n_lines))"
   ]
  },
  {
   "cell_type": "markdown",
   "id": "copyrighted-treasure",
   "metadata": {},
   "source": [
    "<h3> Anser to Point A </h3>"
   ]
  },
  {
   "cell_type": "code",
   "execution_count": 8,
   "id": "early-registrar",
   "metadata": {},
   "outputs": [
    {
     "name": "stdout",
     "output_type": "stream",
     "text": [
      "Number of Lines with Word 'data' : 14\n",
      "Lines with Word 'data' : [1, 4, 5, 6, 7, 10, 12, 13, 14, 15, 17, 18, 19, 21]\n"
     ]
    }
   ],
   "source": [
    "# Count Lines with Word \"data\"\n",
    "\n",
    "n_lines_with_word_data = 0\n",
    "lines_with_word_data = []\n",
    "i = 1\n",
    "\n",
    "for text_line in text_lines:\n",
    "    words_list = re.compile('\\w+').findall(text_line)\n",
    "    if \"data\" in words_list:\n",
    "        n_lines_with_word_data += 1\n",
    "        lines_with_word_data.append(i)\n",
    "    i += 1\n",
    "        \n",
    "print(\"Number of Lines with Word 'data' : \" + str(n_lines_with_word_data))\n",
    "print(\"Lines with Word 'data' : \" + str(lines_with_word_data))"
   ]
  },
  {
   "cell_type": "code",
   "execution_count": 9,
   "id": "expressed-religion",
   "metadata": {},
   "outputs": [
    {
     "name": "stdout",
     "output_type": "stream",
     "text": [
      "P(data in each line) = 0.636\n"
     ]
    }
   ],
   "source": [
    "# Probability of the word “data” occurring in each line\n",
    "\n",
    "prob_data_each_line = n_lines_with_word_data/n_lines\n",
    "print(\"P(data in each line) = \" + str(np.round(prob_data_each_line,3)))"
   ]
  },
  {
   "cell_type": "markdown",
   "id": "employed-detector",
   "metadata": {},
   "source": [
    "<h3> Anser to Point B </h3>"
   ]
  },
  {
   "cell_type": "code",
   "execution_count": 10,
   "id": "radio-yorkshire",
   "metadata": {},
   "outputs": [],
   "source": [
    "# Get Distinct Words for Each Lines\n",
    "distinct_words_lines = []\n",
    "\n",
    "for text_line in text_lines:\n",
    "    words_list_counter = Counter(re.compile('\\w+').findall(text_line)) \n",
    "    distinct_words = len(words_list_counter)\n",
    "    distinct_words_lines.append(distinct_words)"
   ]
  },
  {
   "cell_type": "code",
   "execution_count": 11,
   "id": "afraid-advancement",
   "metadata": {},
   "outputs": [
    {
     "name": "stdout",
     "output_type": "stream",
     "text": [
      "Line 01 : 15 distinct words\n",
      "Line 02 : 13 distinct words\n",
      "Line 03 : 14 distinct words\n",
      "Line 04 : 14 distinct words\n",
      "Line 05 : 17 distinct words\n",
      "Line 06 : 14 distinct words\n",
      "Line 07 : 11 distinct words\n",
      "Line 08 : 12 distinct words\n",
      "Line 09 : 16 distinct words\n",
      "Line 10 : 12 distinct words\n",
      "Line 11 : 16 distinct words\n",
      "Line 12 : 18 distinct words\n",
      "Line 13 : 14 distinct words\n",
      "Line 14 : 11 distinct words\n",
      "Line 15 : 16 distinct words\n",
      "Line 16 : 17 distinct words\n",
      "Line 17 : 15 distinct words\n",
      "Line 18 : 12 distinct words\n",
      "Line 19 : 14 distinct words\n",
      "Line 20 : 12 distinct words\n",
      "Line 21 : 15 distinct words\n",
      "Line 22 : 5 distinct words\n"
     ]
    }
   ],
   "source": [
    "# Print Distinct Words for Each Line\n",
    "\n",
    "i = 1\n",
    "for distinct_words in distinct_words_lines:\n",
    "    if(i < 10):\n",
    "        index = '0' + str(i)\n",
    "    else:\n",
    "        index = str(i)\n",
    "        \n",
    "    print(\"Line \" + index + \" : \" + str(distinct_words) + ' distinct words')\n",
    "    i+=1"
   ]
  },
  {
   "cell_type": "code",
   "execution_count": 12,
   "id": "understanding-convenience",
   "metadata": {},
   "outputs": [
    {
     "data": {
      "text/plain": [
       "<AxesSubplot:ylabel='Count'>"
      ]
     },
     "execution_count": 12,
     "metadata": {},
     "output_type": "execute_result"
    },
    {
     "data": {
      "image/png": "[encoded data removed]",
      "text/plain": [
       "<Figure size 432x288 with 1 Axes>"
      ]
     },
     "metadata": {
      "needs_background": "light"
     },
     "output_type": "display_data"
    }
   ],
   "source": [
    "# Plot the Distribution of Distinct Words\n",
    "sns.histplot(data=distinct_words_lines,binwidth=1)"
   ]
  },
  {
   "cell_type": "code",
   "execution_count": 13,
   "id": "written-holder",
   "metadata": {},
   "outputs": [
    {
     "name": "stdout",
     "output_type": "stream",
     "text": [
      "Min  : 5 words\n",
      "Max  : 18 words\n",
      "Mean : 14 words\n"
     ]
    }
   ],
   "source": [
    "# Show Min, Max, and Mean of Distinct Words from the distribution\n",
    "\n",
    "print(\"Min  : \" + str(np.min(distinct_words_lines)) + \" words\")\n",
    "print(\"Max  : \" + str(np.max(distinct_words_lines)) + \" words\")\n",
    "print(\"Mean : \" + str(int(np.ceil(np.mean(distinct_words_lines)))) + \" words\")"
   ]
  },
  {
   "cell_type": "markdown",
   "id": "positive-steps",
   "metadata": {},
   "source": [
    "<h3> Anser to Point C </h3>"
   ]
  },
  {
   "cell_type": "code",
   "execution_count": 14,
   "id": "incorporated-delay",
   "metadata": {},
   "outputs": [],
   "source": [
    "# Creating Words Bigrams\n",
    "\n",
    "vectorizer = CountVectorizer(analyzer='word',ngram_range =(2, 2)) \n",
    "vectorizer.fit_transform(text_lines)  \n",
    "bigrams_list = (vectorizer.get_feature_names()) \n",
    "bigrams_matrix = vectorizer.transform(text_lines).toarray()"
   ]
  },
  {
   "cell_type": "code",
   "execution_count": 15,
   "id": "casual-budapest",
   "metadata": {},
   "outputs": [
    {
     "name": "stdout",
     "output_type": "stream",
     "text": [
      "Number of Bigrams : 271\n"
     ]
    }
   ],
   "source": [
    "# Number of Bi-Grams found on Text\n",
    "print('Number of Bigrams : ' + str(len(bigrams_list)))"
   ]
  },
  {
   "cell_type": "code",
   "execution_count": 16,
   "id": "flush-glasgow",
   "metadata": {},
   "outputs": [
    {
     "data": {
      "text/plain": [
       "(22, 271)"
      ]
     },
     "execution_count": 16,
     "metadata": {},
     "output_type": "execute_result"
    }
   ],
   "source": [
    "# Words Bi-Grams Matrix Dimension\n",
    "bigrams_matrix.shape"
   ]
  },
  {
   "cell_type": "code",
   "execution_count": 17,
   "id": "significant-commons",
   "metadata": {},
   "outputs": [
    {
     "name": "stdout",
     "output_type": "stream",
     "text": [
      "Number of Lines with words 'data analytics' : 5\n",
      "Lines with words 'data analytics' : [1, 5, 6, 7, 13]\n"
     ]
    }
   ],
   "source": [
    "# Get Lines with Word \"data analytics\"\n",
    "\n",
    "bigrams_matrix_df = pd.DataFrame(bigrams_matrix, columns=bigrams_list)\n",
    "lines_with_words_data_analytics = np.add(bigrams_matrix_df[bigrams_matrix_df[\"data analytics\"] == 1].index,1).to_list()\n",
    "n_lines_with_words_data_analytics = len(lines_with_words_data_analytics)\n",
    "\n",
    "print(\"Number of Lines with words 'data analytics' : \" + str(n_lines_with_words_data_analytics))\n",
    "print(\"Lines with words 'data analytics' : \" + str(lines_with_words_data_analytics))"
   ]
  },
  {
   "cell_type": "code",
   "execution_count": 18,
   "id": "persistent-remainder",
   "metadata": {},
   "outputs": [
    {
     "name": "stdout",
     "output_type": "stream",
     "text": [
      "P(word analytics after the word data) : 0.357\n"
     ]
    }
   ],
   "source": [
    "# Probability of the word 'analytics' occurring after the word 'data'\n",
    "\n",
    "prob_word_analytics_after_word_data = n_lines_with_words_data_analytics/n_lines_with_word_data\n",
    "print(\"P(word analytics after the word data) : \" + str(np.round(prob_word_analytics_after_word_data,3)))"
   ]
  },
  {
   "cell_type": "code",
   "execution_count": null,
   "id": "remarkable-brooks",
   "metadata": {},
   "outputs": [],
   "source": []
  }
 ],
 "metadata": {
  "kernelspec": {
   "display_name": "tf_env",
   "language": "python",
   "name": "tf_env"
  },
  "language_info": {
   "codemirror_mode": {
    "name": "ipython",
    "version": 3
   },
   "file_extension": ".py",
   "mimetype": "text/x-python",
   "name": "python",
   "nbconvert_exporter": "python",
   "pygments_lexer": "ipython3",
   "version": "3.8.5"
  }
 },
 "nbformat": 4,
 "nbformat_minor": 5
}
